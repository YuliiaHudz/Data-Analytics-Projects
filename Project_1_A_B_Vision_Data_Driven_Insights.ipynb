{
  "nbformat": 4,
  "nbformat_minor": 0,
  "metadata": {
    "colab": {
      "provenance": [],
      "authorship_tag": "ABX9TyOA21hO8X1R4nilnq3WcENJ",
      "include_colab_link": true
    },
    "kernelspec": {
      "name": "python3",
      "display_name": "Python 3"
    },
    "language_info": {
      "name": "python"
    }
  },
  "cells": [
    {
      "cell_type": "markdown",
      "metadata": {
        "id": "view-in-github",
        "colab_type": "text"
      },
      "source": [
        "<a href=\"https://colab.research.google.com/github/YuliiaHudz/Data-Analytics-Projects/blob/main/Project_1_A_B_Vision_Data_Driven_Insights.ipynb\" target=\"_parent\"><img src=\"https://colab.research.google.com/assets/colab-badge.svg\" alt=\"Open In Colab\"/></a>"
      ]
    },
    {
      "cell_type": "code",
      "execution_count": null,
      "metadata": {
        "colab": {
          "base_uri": "https://localhost:8080/",
          "height": 206
        },
        "id": "dOZ4VNsScJWi",
        "outputId": "54d185af-4b04-4ed8-8269-64e7152f5f7b"
      },
      "outputs": [
        {
          "output_type": "execute_result",
          "data": {
            "text/plain": [
              "         date  country   device continent         channel  test  test_group  \\\n",
              "0  2020-11-01  Ecuador  desktop  Americas  Organic Search     2           2   \n",
              "1  2020-11-01  Ecuador  desktop  Americas  Organic Search     1           1   \n",
              "2  2020-11-01  Uruguay   mobile  Americas  Organic Search     2           2   \n",
              "3  2020-11-01  Uruguay   mobile  Americas  Organic Search     1           1   \n",
              "4  2020-11-01  Georgia   mobile      Asia          Direct     2           2   \n",
              "\n",
              "  event_name  value  \n",
              "0    session      1  \n",
              "1    session      1  \n",
              "2    session      1  \n",
              "3    session      1  \n",
              "4    session      1  "
            ],
            "text/html": [
              "\n",
              "  <div id=\"df-06322ed0-591d-4437-804b-16b38122147a\" class=\"colab-df-container\">\n",
              "    <div>\n",
              "<style scoped>\n",
              "    .dataframe tbody tr th:only-of-type {\n",
              "        vertical-align: middle;\n",
              "    }\n",
              "\n",
              "    .dataframe tbody tr th {\n",
              "        vertical-align: top;\n",
              "    }\n",
              "\n",
              "    .dataframe thead th {\n",
              "        text-align: right;\n",
              "    }\n",
              "</style>\n",
              "<table border=\"1\" class=\"dataframe\">\n",
              "  <thead>\n",
              "    <tr style=\"text-align: right;\">\n",
              "      <th></th>\n",
              "      <th>date</th>\n",
              "      <th>country</th>\n",
              "      <th>device</th>\n",
              "      <th>continent</th>\n",
              "      <th>channel</th>\n",
              "      <th>test</th>\n",
              "      <th>test_group</th>\n",
              "      <th>event_name</th>\n",
              "      <th>value</th>\n",
              "    </tr>\n",
              "  </thead>\n",
              "  <tbody>\n",
              "    <tr>\n",
              "      <th>0</th>\n",
              "      <td>2020-11-01</td>\n",
              "      <td>Ecuador</td>\n",
              "      <td>desktop</td>\n",
              "      <td>Americas</td>\n",
              "      <td>Organic Search</td>\n",
              "      <td>2</td>\n",
              "      <td>2</td>\n",
              "      <td>session</td>\n",
              "      <td>1</td>\n",
              "    </tr>\n",
              "    <tr>\n",
              "      <th>1</th>\n",
              "      <td>2020-11-01</td>\n",
              "      <td>Ecuador</td>\n",
              "      <td>desktop</td>\n",
              "      <td>Americas</td>\n",
              "      <td>Organic Search</td>\n",
              "      <td>1</td>\n",
              "      <td>1</td>\n",
              "      <td>session</td>\n",
              "      <td>1</td>\n",
              "    </tr>\n",
              "    <tr>\n",
              "      <th>2</th>\n",
              "      <td>2020-11-01</td>\n",
              "      <td>Uruguay</td>\n",
              "      <td>mobile</td>\n",
              "      <td>Americas</td>\n",
              "      <td>Organic Search</td>\n",
              "      <td>2</td>\n",
              "      <td>2</td>\n",
              "      <td>session</td>\n",
              "      <td>1</td>\n",
              "    </tr>\n",
              "    <tr>\n",
              "      <th>3</th>\n",
              "      <td>2020-11-01</td>\n",
              "      <td>Uruguay</td>\n",
              "      <td>mobile</td>\n",
              "      <td>Americas</td>\n",
              "      <td>Organic Search</td>\n",
              "      <td>1</td>\n",
              "      <td>1</td>\n",
              "      <td>session</td>\n",
              "      <td>1</td>\n",
              "    </tr>\n",
              "    <tr>\n",
              "      <th>4</th>\n",
              "      <td>2020-11-01</td>\n",
              "      <td>Georgia</td>\n",
              "      <td>mobile</td>\n",
              "      <td>Asia</td>\n",
              "      <td>Direct</td>\n",
              "      <td>2</td>\n",
              "      <td>2</td>\n",
              "      <td>session</td>\n",
              "      <td>1</td>\n",
              "    </tr>\n",
              "  </tbody>\n",
              "</table>\n",
              "</div>\n",
              "    <div class=\"colab-df-buttons\">\n",
              "\n",
              "  <div class=\"colab-df-container\">\n",
              "    <button class=\"colab-df-convert\" onclick=\"convertToInteractive('df-06322ed0-591d-4437-804b-16b38122147a')\"\n",
              "            title=\"Convert this dataframe to an interactive table.\"\n",
              "            style=\"display:none;\">\n",
              "\n",
              "  <svg xmlns=\"http://www.w3.org/2000/svg\" height=\"24px\" viewBox=\"0 -960 960 960\">\n",
              "    <path d=\"M120-120v-720h720v720H120Zm60-500h600v-160H180v160Zm220 220h160v-160H400v160Zm0 220h160v-160H400v160ZM180-400h160v-160H180v160Zm440 0h160v-160H620v160ZM180-180h160v-160H180v160Zm440 0h160v-160H620v160Z\"/>\n",
              "  </svg>\n",
              "    </button>\n",
              "\n",
              "  <style>\n",
              "    .colab-df-container {\n",
              "      display:flex;\n",
              "      gap: 12px;\n",
              "    }\n",
              "\n",
              "    .colab-df-convert {\n",
              "      background-color: #E8F0FE;\n",
              "      border: none;\n",
              "      border-radius: 50%;\n",
              "      cursor: pointer;\n",
              "      display: none;\n",
              "      fill: #1967D2;\n",
              "      height: 32px;\n",
              "      padding: 0 0 0 0;\n",
              "      width: 32px;\n",
              "    }\n",
              "\n",
              "    .colab-df-convert:hover {\n",
              "      background-color: #E2EBFA;\n",
              "      box-shadow: 0px 1px 2px rgba(60, 64, 67, 0.3), 0px 1px 3px 1px rgba(60, 64, 67, 0.15);\n",
              "      fill: #174EA6;\n",
              "    }\n",
              "\n",
              "    .colab-df-buttons div {\n",
              "      margin-bottom: 4px;\n",
              "    }\n",
              "\n",
              "    [theme=dark] .colab-df-convert {\n",
              "      background-color: #3B4455;\n",
              "      fill: #D2E3FC;\n",
              "    }\n",
              "\n",
              "    [theme=dark] .colab-df-convert:hover {\n",
              "      background-color: #434B5C;\n",
              "      box-shadow: 0px 1px 3px 1px rgba(0, 0, 0, 0.15);\n",
              "      filter: drop-shadow(0px 1px 2px rgba(0, 0, 0, 0.3));\n",
              "      fill: #FFFFFF;\n",
              "    }\n",
              "  </style>\n",
              "\n",
              "    <script>\n",
              "      const buttonEl =\n",
              "        document.querySelector('#df-06322ed0-591d-4437-804b-16b38122147a button.colab-df-convert');\n",
              "      buttonEl.style.display =\n",
              "        google.colab.kernel.accessAllowed ? 'block' : 'none';\n",
              "\n",
              "      async function convertToInteractive(key) {\n",
              "        const element = document.querySelector('#df-06322ed0-591d-4437-804b-16b38122147a');\n",
              "        const dataTable =\n",
              "          await google.colab.kernel.invokeFunction('convertToInteractive',\n",
              "                                                    [key], {});\n",
              "        if (!dataTable) return;\n",
              "\n",
              "        const docLinkHtml = 'Like what you see? Visit the ' +\n",
              "          '<a target=\"_blank\" href=https://colab.research.google.com/notebooks/data_table.ipynb>data table notebook</a>'\n",
              "          + ' to learn more about interactive tables.';\n",
              "        element.innerHTML = '';\n",
              "        dataTable['output_type'] = 'display_data';\n",
              "        await google.colab.output.renderOutput(dataTable, element);\n",
              "        const docLink = document.createElement('div');\n",
              "        docLink.innerHTML = docLinkHtml;\n",
              "        element.appendChild(docLink);\n",
              "      }\n",
              "    </script>\n",
              "  </div>\n",
              "\n",
              "\n",
              "<div id=\"df-7881c550-2d80-4b38-be92-25fd06826a63\">\n",
              "  <button class=\"colab-df-quickchart\" onclick=\"quickchart('df-7881c550-2d80-4b38-be92-25fd06826a63')\"\n",
              "            title=\"Suggest charts\"\n",
              "            style=\"display:none;\">\n",
              "\n",
              "<svg xmlns=\"http://www.w3.org/2000/svg\" height=\"24px\"viewBox=\"0 0 24 24\"\n",
              "     width=\"24px\">\n",
              "    <g>\n",
              "        <path d=\"M19 3H5c-1.1 0-2 .9-2 2v14c0 1.1.9 2 2 2h14c1.1 0 2-.9 2-2V5c0-1.1-.9-2-2-2zM9 17H7v-7h2v7zm4 0h-2V7h2v10zm4 0h-2v-4h2v4z\"/>\n",
              "    </g>\n",
              "</svg>\n",
              "  </button>\n",
              "\n",
              "<style>\n",
              "  .colab-df-quickchart {\n",
              "      --bg-color: #E8F0FE;\n",
              "      --fill-color: #1967D2;\n",
              "      --hover-bg-color: #E2EBFA;\n",
              "      --hover-fill-color: #174EA6;\n",
              "      --disabled-fill-color: #AAA;\n",
              "      --disabled-bg-color: #DDD;\n",
              "  }\n",
              "\n",
              "  [theme=dark] .colab-df-quickchart {\n",
              "      --bg-color: #3B4455;\n",
              "      --fill-color: #D2E3FC;\n",
              "      --hover-bg-color: #434B5C;\n",
              "      --hover-fill-color: #FFFFFF;\n",
              "      --disabled-bg-color: #3B4455;\n",
              "      --disabled-fill-color: #666;\n",
              "  }\n",
              "\n",
              "  .colab-df-quickchart {\n",
              "    background-color: var(--bg-color);\n",
              "    border: none;\n",
              "    border-radius: 50%;\n",
              "    cursor: pointer;\n",
              "    display: none;\n",
              "    fill: var(--fill-color);\n",
              "    height: 32px;\n",
              "    padding: 0;\n",
              "    width: 32px;\n",
              "  }\n",
              "\n",
              "  .colab-df-quickchart:hover {\n",
              "    background-color: var(--hover-bg-color);\n",
              "    box-shadow: 0 1px 2px rgba(60, 64, 67, 0.3), 0 1px 3px 1px rgba(60, 64, 67, 0.15);\n",
              "    fill: var(--button-hover-fill-color);\n",
              "  }\n",
              "\n",
              "  .colab-df-quickchart-complete:disabled,\n",
              "  .colab-df-quickchart-complete:disabled:hover {\n",
              "    background-color: var(--disabled-bg-color);\n",
              "    fill: var(--disabled-fill-color);\n",
              "    box-shadow: none;\n",
              "  }\n",
              "\n",
              "  .colab-df-spinner {\n",
              "    border: 2px solid var(--fill-color);\n",
              "    border-color: transparent;\n",
              "    border-bottom-color: var(--fill-color);\n",
              "    animation:\n",
              "      spin 1s steps(1) infinite;\n",
              "  }\n",
              "\n",
              "  @keyframes spin {\n",
              "    0% {\n",
              "      border-color: transparent;\n",
              "      border-bottom-color: var(--fill-color);\n",
              "      border-left-color: var(--fill-color);\n",
              "    }\n",
              "    20% {\n",
              "      border-color: transparent;\n",
              "      border-left-color: var(--fill-color);\n",
              "      border-top-color: var(--fill-color);\n",
              "    }\n",
              "    30% {\n",
              "      border-color: transparent;\n",
              "      border-left-color: var(--fill-color);\n",
              "      border-top-color: var(--fill-color);\n",
              "      border-right-color: var(--fill-color);\n",
              "    }\n",
              "    40% {\n",
              "      border-color: transparent;\n",
              "      border-right-color: var(--fill-color);\n",
              "      border-top-color: var(--fill-color);\n",
              "    }\n",
              "    60% {\n",
              "      border-color: transparent;\n",
              "      border-right-color: var(--fill-color);\n",
              "    }\n",
              "    80% {\n",
              "      border-color: transparent;\n",
              "      border-right-color: var(--fill-color);\n",
              "      border-bottom-color: var(--fill-color);\n",
              "    }\n",
              "    90% {\n",
              "      border-color: transparent;\n",
              "      border-bottom-color: var(--fill-color);\n",
              "    }\n",
              "  }\n",
              "</style>\n",
              "\n",
              "  <script>\n",
              "    async function quickchart(key) {\n",
              "      const quickchartButtonEl =\n",
              "        document.querySelector('#' + key + ' button');\n",
              "      quickchartButtonEl.disabled = true;  // To prevent multiple clicks.\n",
              "      quickchartButtonEl.classList.add('colab-df-spinner');\n",
              "      try {\n",
              "        const charts = await google.colab.kernel.invokeFunction(\n",
              "            'suggestCharts', [key], {});\n",
              "      } catch (error) {\n",
              "        console.error('Error during call to suggestCharts:', error);\n",
              "      }\n",
              "      quickchartButtonEl.classList.remove('colab-df-spinner');\n",
              "      quickchartButtonEl.classList.add('colab-df-quickchart-complete');\n",
              "    }\n",
              "    (() => {\n",
              "      let quickchartButtonEl =\n",
              "        document.querySelector('#df-7881c550-2d80-4b38-be92-25fd06826a63 button');\n",
              "      quickchartButtonEl.style.display =\n",
              "        google.colab.kernel.accessAllowed ? 'block' : 'none';\n",
              "    })();\n",
              "  </script>\n",
              "</div>\n",
              "    </div>\n",
              "  </div>\n"
            ],
            "application/vnd.google.colaboratory.intrinsic+json": {
              "type": "dataframe",
              "variable_name": "df"
            }
          },
          "metadata": {},
          "execution_count": 2
        }
      ],
      "source": [
        "from google.colab import auth\n",
        "from google.cloud import bigquery\n",
        "\n",
        "import pandas as pd\n",
        "\n",
        "auth.authenticate_user()\n",
        "\n",
        "client = bigquery.Client(project=\"data-analytics-mate\")\n",
        "\n",
        "query = \"\"\"\n",
        "WITH session_info AS (\n",
        "    SELECT\n",
        "        s.date,\n",
        "        s.ga_session_id,\n",
        "        sp.country,\n",
        "        sp.device,\n",
        "        sp.continent,\n",
        "        sp.channel,\n",
        "        ab.test,\n",
        "        ab.test_group\n",
        "    FROM `DA.session` s\n",
        "    JOIN `DA.ab_test` ab USING (ga_session_id)\n",
        "    JOIN `DA.session_params` sp USING (ga_session_id)\n",
        "),\n",
        "\n",
        "aggregated_data AS (\n",
        "    SELECT\n",
        "        si.date,\n",
        "        si.country,\n",
        "        si.device,\n",
        "        si.continent,\n",
        "        si.channel,\n",
        "        si.test,\n",
        "        si.test_group,\n",
        "        COUNT(DISTINCT o.ga_session_id) AS sessions_with_orders,\n",
        "        COUNT(DISTINCT si.ga_session_id) AS session_cnt,\n",
        "        COUNT(DISTINCT acs.ga_session_id) AS new_account_cnt\n",
        "    FROM session_info si\n",
        "    LEFT JOIN `DA.order` o USING (ga_session_id)\n",
        "    LEFT JOIN `DA.account_session` acs USING (ga_session_id)\n",
        "    GROUP BY\n",
        "        si.date, si.country, si.device, si.continent,\n",
        "        si.channel, si.test, si.test_group\n",
        "),\n",
        "\n",
        "event_counts AS (\n",
        "    SELECT\n",
        "        si.date,\n",
        "        si.country,\n",
        "        si.device,\n",
        "        si.continent,\n",
        "        si.channel,\n",
        "        si.test,\n",
        "        si.test_group,\n",
        "        ep.event_name,\n",
        "        COUNT(ep.ga_session_id) AS event_cnt\n",
        "    FROM `DA.event_params` ep\n",
        "    JOIN session_info si USING (ga_session_id)\n",
        "    GROUP BY\n",
        "        si.date, si.country, si.device, si.continent,\n",
        "        si.channel, si.test, si.test_group, ep.event_name\n",
        ")\n",
        "\n",
        "SELECT\n",
        "    date, country, device, continent, channel, test, test_group,\n",
        "    'session with orders' AS event_name, sessions_with_orders AS value\n",
        "FROM aggregated_data\n",
        "WHERE sessions_with_orders > 0\n",
        "\n",
        "UNION ALL\n",
        "\n",
        "SELECT\n",
        "    date, country, device, continent, channel, test, test_group,\n",
        "    'session' AS event_name, session_cnt AS value\n",
        "FROM aggregated_data\n",
        "WHERE session_cnt > 0\n",
        "\n",
        "UNION ALL\n",
        "\n",
        "SELECT\n",
        "    date, country, device, continent, channel, test, test_group,\n",
        "    'new account' AS event_name, new_account_cnt AS value\n",
        "FROM aggregated_data\n",
        "WHERE new_account_cnt > 0\n",
        "\n",
        "UNION ALL\n",
        "\n",
        "SELECT\n",
        "    date, country, device, continent, channel, test, test_group,\n",
        "    event_name, event_cnt AS value\n",
        "FROM event_counts\n",
        "WHERE event_cnt > 0;\n",
        "\"\"\"\n",
        "query_job = client.query(query)\n",
        "results = query_job.result()\n",
        "\n",
        "df = results.to_dataframe()\n",
        "df.head()"
      ]
    },
    {
      "cell_type": "markdown",
      "source": [
        "**Explanation:** In this part, a BigQuery client is set up to interact with Google BigQuery, and a complex SQL query is defined. The query aggregates session and event data, such as sessions with orders, session counts, new accounts, and event counts, grouped by dimensions like date, country, device, and test group. The query is executed in BigQuery, and the results are converted into a Pandas DataFrame for further analysis. Finally, the first few rows of the DataFrame are displayed."
      ],
      "metadata": {
        "id": "Jod9DZw9bRx6"
      }
    },
    {
      "cell_type": "markdown",
      "source": [
        "# **Setup and Initialize Variables**"
      ],
      "metadata": {
        "id": "d-Clgdli1DOd"
      }
    },
    {
      "cell_type": "code",
      "source": [
        "import numpy as np\n",
        "import pandas as pd\n",
        "from scipy.stats import norm\n",
        "\n",
        "# Dictionary of metrics for analysis\n",
        "metrics = {\n",
        "    \"add_payment_info\": \"add_payment_info / session\",\n",
        "    \"add_shipping_info\": \"add_shipping_info / session\",\n",
        "    \"begin_checkout\": \"begin_checkout / session\",\n",
        "    \"new account\": \"new account / session\"\n",
        "}\n",
        "\n",
        "# Initialize results list and other variables\n",
        "test_numbers = df[\"test\"].unique()\n",
        "results = []\n",
        "\n",
        "# Aggregate data for faster calculations\n",
        "df_agg = df.groupby([\"test\", \"test_group\", \"event_name\"])[\"value\"].sum().reset_index()"
      ],
      "metadata": {
        "id": "HYQMIhrT0RxY",
        "colab": {
          "base_uri": "https://localhost:8080/",
          "height": 211
        },
        "outputId": "fc826182-d986-4f72-e217-db074c9be550"
      },
      "execution_count": null,
      "outputs": [
        {
          "output_type": "error",
          "ename": "NameError",
          "evalue": "name 'df' is not defined",
          "traceback": [
            "\u001b[0;31m---------------------------------------------------------------------------\u001b[0m",
            "\u001b[0;31mNameError\u001b[0m                                 Traceback (most recent call last)",
            "\u001b[0;32m<ipython-input-1-b703e0151180>\u001b[0m in \u001b[0;36m<cell line: 0>\u001b[0;34m()\u001b[0m\n\u001b[1;32m     12\u001b[0m \u001b[0;34m\u001b[0m\u001b[0m\n\u001b[1;32m     13\u001b[0m \u001b[0;31m# Initialize results list and other variables\u001b[0m\u001b[0;34m\u001b[0m\u001b[0;34m\u001b[0m\u001b[0m\n\u001b[0;32m---> 14\u001b[0;31m \u001b[0mtest_numbers\u001b[0m \u001b[0;34m=\u001b[0m \u001b[0mdf\u001b[0m\u001b[0;34m[\u001b[0m\u001b[0;34m\"test\"\u001b[0m\u001b[0;34m]\u001b[0m\u001b[0;34m.\u001b[0m\u001b[0munique\u001b[0m\u001b[0;34m(\u001b[0m\u001b[0;34m)\u001b[0m\u001b[0;34m\u001b[0m\u001b[0;34m\u001b[0m\u001b[0m\n\u001b[0m\u001b[1;32m     15\u001b[0m \u001b[0mresults\u001b[0m \u001b[0;34m=\u001b[0m \u001b[0;34m[\u001b[0m\u001b[0;34m]\u001b[0m\u001b[0;34m\u001b[0m\u001b[0;34m\u001b[0m\u001b[0m\n\u001b[1;32m     16\u001b[0m \u001b[0;34m\u001b[0m\u001b[0m\n",
            "\u001b[0;31mNameError\u001b[0m: name 'df' is not defined"
          ]
        }
      ]
    },
    {
      "cell_type": "markdown",
      "source": [
        "**Explanation:** In this part, the necessary libraries (numpy, pandas, and scipy.stats.norm) are imported. A dictionary, metrics, is created to define formulas for different metrics. The results list is initialized to store the output, and unique test numbers are extracted from the dataset for further analysis. Additionally, the dataset is aggregated to optimize calculations."
      ],
      "metadata": {
        "id": "Df5uaeVS1xTO"
      }
    },
    {
      "cell_type": "markdown",
      "source": [
        "# **Process Each Test and Calculate Metrics**"
      ],
      "metadata": {
        "id": "5CFwjD961J4E"
      }
    },
    {
      "cell_type": "code",
      "source": [
        "\n",
        "# Loop through each test in the dataset\n",
        "for test_value in test_numbers:\n",
        "    test_subset = df_agg[df_agg[\"test\"] == test_value]\n",
        "\n",
        "    # Split into control and test groups\n",
        "    control = test_subset[test_subset[\"test_group\"] == 1].set_index(\"event_name\")[\"value\"]\n",
        "    test = test_subset[test_subset[\"test_group\"] == 2].set_index(\"event_name\")[\"value\"]\n",
        "\n",
        "    if \"session\" not in control or \"session\" not in test:\n",
        "        print(f\"Missing session data for test '{test_value}'\")\n",
        "        continue\n",
        "\n",
        "    # Total number of sessions in each group\n",
        "    denominator_control = control.get(\"session\", 0)\n",
        "    denominator_experiment = test.get(\"session\", 0)\n",
        "\n",
        "    if denominator_control == 0 or denominator_experiment == 0:\n",
        "        print(f\"Zero denominator for test '{test_value}', skipping...\")\n",
        "        continue\n",
        "\n",
        "    # Loop through each metric\n",
        "    for metric, formula in metrics.items():\n",
        "        numerator_control = control.get(metric, 0)\n",
        "        numerator_experiment = test.get(metric, 0)\n",
        "\n",
        "        conversion_rate_A = numerator_control / denominator_control\n",
        "        conversion_rate_B = numerator_experiment / denominator_experiment\n",
        "        metric_change = ((conversion_rate_B - conversion_rate_A) / conversion_rate_A) * 100 if conversion_rate_A > 0 else 0\n",
        "\n",
        "        n_control = denominator_control\n",
        "        n_test = denominator_experiment\n",
        "\n",
        "        pooled_prob = (numerator_control + numerator_experiment) / (n_control + n_test)\n",
        "        std_error = np.sqrt(pooled_prob * (1 - pooled_prob) * (1 / n_control + 1 / n_test)) if pooled_prob > 0 else 0\n",
        "\n",
        "        z_stat = (conversion_rate_B - conversion_rate_A) / std_error if std_error > 0 else 0\n",
        "        p_value = 2 * (1 - norm.cdf(abs(z_stat))) if std_error > 0 else 1\n",
        "\n",
        "        results.append({\n",
        "            'test_number': test_value,\n",
        "            'metric': formula,\n",
        "            'numerator_event': metric,\n",
        "            'denominator_event': \"session\",\n",
        "            'numerator_converse_A': numerator_control,\n",
        "            'denominator_converse_A': denominator_control,\n",
        "            'conversion_rate_A': f\"{conversion_rate_A:.10f}\",\n",
        "            'numerator_converse_B': numerator_experiment,\n",
        "            'denominator_converse_B': denominator_experiment,\n",
        "            'conversion_rate_B': f\"{conversion_rate_B:.10f}\",\n",
        "            'metric_change': f\"{metric_change:.10f}\",\n",
        "            'z_stat': f\"{z_stat:.10f}\",\n",
        "            'p_value': f\"{p_value:.10f}\",\n",
        "            'significant': p_value < 0.05\n",
        "        })"
      ],
      "metadata": {
        "id": "CxEcI6Os0pZ-"
      },
      "execution_count": null,
      "outputs": []
    },
    {
      "cell_type": "markdown",
      "source": [
        "**Explanation:** This part iterates through each test in the dataset and splits the data into control and test groups. If either group is missing data, the test is skipped. For each metric, the sum of values is calculated for both groups, and cases where denominators are zero are handled. Conversion rates are computed, followed by the metric change. The pooled probability, standard error, z-statistic, and p-value are also determined. Finally, results are stored in the results list, including details such as conversion rates, metric change, statistical significance, and the z-statistic."
      ],
      "metadata": {
        "id": "BzjbC8qb2EPQ"
      }
    },
    {
      "cell_type": "markdown",
      "source": [
        "# **Convert Results**"
      ],
      "metadata": {
        "id": "pweof_DY1NyD"
      }
    },
    {
      "cell_type": "code",
      "source": [
        "# Convert results to DataFrame and sort\n",
        "results_df = pd.DataFrame(results)\n",
        "results_df = results_df.sort_values(by=\"test_number\", ascending=True)\n",
        "\n",
        "# Save to CSV and Excel\n",
        "results_df.to_csv(\"ab_test_results.csv\", index=False)\n",
        "results_df.to_excel(\"ab_test_results.xlsx\", index=False)\n",
        "\n",
        "print(\"Results saved to 'ab_test_results.csv' and 'ab_test_results.xlsx'.\")\n"
      ],
      "metadata": {
        "colab": {
          "base_uri": "https://localhost:8080/"
        },
        "id": "lO-7VO850rAR",
        "outputId": "afda4a6a-e11a-479e-e163-6b8ec20cfc88"
      },
      "execution_count": null,
      "outputs": [
        {
          "output_type": "stream",
          "name": "stdout",
          "text": [
            "Results saved to 'ab_test_results.csv' and 'ab_test_results.xlsx'.\n"
          ]
        }
      ]
    },
    {
      "cell_type": "markdown",
      "source": [
        "# **Save Results to CSV and Excel Files**"
      ],
      "metadata": {
        "id": "zscv3cXe1TDF"
      }
    },
    {
      "cell_type": "code",
      "source": [
        "from google.colab import files\n",
        "\n",
        "# Download the CSV and Excel files directly\n",
        "files.download(\"ab_test_results.csv\")\n",
        "files.download(\"ab_test_results.xlsx\")\n"
      ],
      "metadata": {
        "colab": {
          "base_uri": "https://localhost:8080/",
          "height": 17
        },
        "id": "5zuSBD-q0skU",
        "outputId": "fbcaaf0f-7dd0-4b71-8e59-a50856f35b82"
      },
      "execution_count": null,
      "outputs": [
        {
          "output_type": "display_data",
          "data": {
            "text/plain": [
              "<IPython.core.display.Javascript object>"
            ],
            "application/javascript": [
              "\n",
              "    async function download(id, filename, size) {\n",
              "      if (!google.colab.kernel.accessAllowed) {\n",
              "        return;\n",
              "      }\n",
              "      const div = document.createElement('div');\n",
              "      const label = document.createElement('label');\n",
              "      label.textContent = `Downloading \"${filename}\": `;\n",
              "      div.appendChild(label);\n",
              "      const progress = document.createElement('progress');\n",
              "      progress.max = size;\n",
              "      div.appendChild(progress);\n",
              "      document.body.appendChild(div);\n",
              "\n",
              "      const buffers = [];\n",
              "      let downloaded = 0;\n",
              "\n",
              "      const channel = await google.colab.kernel.comms.open(id);\n",
              "      // Send a message to notify the kernel that we're ready.\n",
              "      channel.send({})\n",
              "\n",
              "      for await (const message of channel.messages) {\n",
              "        // Send a message to notify the kernel that we're ready.\n",
              "        channel.send({})\n",
              "        if (message.buffers) {\n",
              "          for (const buffer of message.buffers) {\n",
              "            buffers.push(buffer);\n",
              "            downloaded += buffer.byteLength;\n",
              "            progress.value = downloaded;\n",
              "          }\n",
              "        }\n",
              "      }\n",
              "      const blob = new Blob(buffers, {type: 'application/binary'});\n",
              "      const a = document.createElement('a');\n",
              "      a.href = window.URL.createObjectURL(blob);\n",
              "      a.download = filename;\n",
              "      div.appendChild(a);\n",
              "      a.click();\n",
              "      div.remove();\n",
              "    }\n",
              "  "
            ]
          },
          "metadata": {}
        },
        {
          "output_type": "display_data",
          "data": {
            "text/plain": [
              "<IPython.core.display.Javascript object>"
            ],
            "application/javascript": [
              "download(\"download_eca92690-cee7-4670-bef0-34a91c6d00c6\", \"ab_test_results.csv\", 2543)"
            ]
          },
          "metadata": {}
        },
        {
          "output_type": "display_data",
          "data": {
            "text/plain": [
              "<IPython.core.display.Javascript object>"
            ],
            "application/javascript": [
              "\n",
              "    async function download(id, filename, size) {\n",
              "      if (!google.colab.kernel.accessAllowed) {\n",
              "        return;\n",
              "      }\n",
              "      const div = document.createElement('div');\n",
              "      const label = document.createElement('label');\n",
              "      label.textContent = `Downloading \"${filename}\": `;\n",
              "      div.appendChild(label);\n",
              "      const progress = document.createElement('progress');\n",
              "      progress.max = size;\n",
              "      div.appendChild(progress);\n",
              "      document.body.appendChild(div);\n",
              "\n",
              "      const buffers = [];\n",
              "      let downloaded = 0;\n",
              "\n",
              "      const channel = await google.colab.kernel.comms.open(id);\n",
              "      // Send a message to notify the kernel that we're ready.\n",
              "      channel.send({})\n",
              "\n",
              "      for await (const message of channel.messages) {\n",
              "        // Send a message to notify the kernel that we're ready.\n",
              "        channel.send({})\n",
              "        if (message.buffers) {\n",
              "          for (const buffer of message.buffers) {\n",
              "            buffers.push(buffer);\n",
              "            downloaded += buffer.byteLength;\n",
              "            progress.value = downloaded;\n",
              "          }\n",
              "        }\n",
              "      }\n",
              "      const blob = new Blob(buffers, {type: 'application/binary'});\n",
              "      const a = document.createElement('a');\n",
              "      a.href = window.URL.createObjectURL(blob);\n",
              "      a.download = filename;\n",
              "      div.appendChild(a);\n",
              "      a.click();\n",
              "      div.remove();\n",
              "    }\n",
              "  "
            ]
          },
          "metadata": {}
        },
        {
          "output_type": "display_data",
          "data": {
            "text/plain": [
              "<IPython.core.display.Javascript object>"
            ],
            "application/javascript": [
              "download(\"download_572143fa-4124-4ef5-952b-85654358276d\", \"ab_test_results.xlsx\", 6758)"
            ]
          },
          "metadata": {}
        }
      ]
    },
    {
      "cell_type": "markdown",
      "source": [
        "# **Results**"
      ],
      "metadata": {
        "id": "ktKSuRdvm4pK"
      }
    },
    {
      "cell_type": "markdown",
      "source": [
        "[**Stage 1. Statistical Significance Calculations**](https://docs.google.com/spreadsheets/d/1uJ3ILjfhe2S_1PY0e2XGkpAYkaCItS-i/edit?usp=sharing&ouid=112933793969429000884&rtpof=true&sd=true)\n"
      ],
      "metadata": {
        "id": "gR_Hni-S2Ntq"
      }
    },
    {
      "cell_type": "markdown",
      "source": [
        "[**Stage 2. Visualization in Tableau**](https://public.tableau.com/app/profile/yuliia.hudz/viz/ABVisionData-DrivenInsights/ABtest)"
      ],
      "metadata": {
        "id": "_6lwGpgf2uPi"
      }
    },
    {
      "cell_type": "code",
      "source": [],
      "metadata": {
        "id": "1xqq2l-pkAp6"
      },
      "execution_count": null,
      "outputs": []
    }
  ]
}